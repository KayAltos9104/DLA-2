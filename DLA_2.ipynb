{
 "cells": [
  {
   "cell_type": "code",
   "execution_count": 40,
   "metadata": {},
   "outputs": [],
   "source": [
    "import cupy\n",
    "import random as rnd"
   ]
  },
  {
   "cell_type": "code",
   "execution_count": 41,
   "metadata": {},
   "outputs": [],
   "source": [
    "def print_str(a,b):\n",
    "    print(str(a),b)\n",
    "\n",
    "class Point(object):\n",
    "        \n",
    "    _registry={}\n",
    "        \n",
    "    def __init__(self ,num_globul ,coords):\n",
    "        self._registry[num_globul] = {'coords' : coords}\n",
    "        self.coords = coords\n",
    "        self.num_globul = num_globul\n",
    "        \n",
    "    def add_coords(self,coords):\n",
    "        self.coords.append(coords)\n",
    "            \n",
    "    @classmethod \n",
    "    def remove_point(self ,num_globul):\n",
    "        self._registry.pop(num_globul)\n",
    "\n",
    "rand_final=[]\n",
    "random_list =[]\n",
    "max=5\n",
    "field_test = cupy.zeros((max+2,max+2))\n",
    "list_for_check_calculate = cupy.array([-1, 0, 1])"
   ]
  },
  {
   "cell_type": "code",
   "execution_count": 42,
   "metadata": {},
   "outputs": [
    {
     "name": "stdout",
     "output_type": "stream",
     "text": [
      "[[1, 1], [1, 2], [1, 3], [1, 4], [1, 5], [2, 1], [2, 2], [2, 3], [2, 4], [2, 5], [3, 1], [3, 2], [3, 3], [3, 4], [3, 5], [4, 1], [4, 2], [4, 3], [4, 4], [4, 5], [5, 1], [5, 2], [5, 3], [5, 4], [5, 5]] random_list\n"
     ]
    }
   ],
   "source": [
    "for x_rand in range(max):\n",
    "        for y_rand in range(max):\n",
    "            random_list.append([x_rand+1,y_rand+1])\n",
    "print_str(random_list,'random_list')"
   ]
  },
  {
   "cell_type": "code",
   "execution_count": 43,
   "metadata": {},
   "outputs": [
    {
     "name": "stdout",
     "output_type": "stream",
     "text": [
      "[[-1 -1]\n",
      " [-1  0]\n",
      " [-1  1]\n",
      " [ 0 -1]\n",
      " [ 0  1]\n",
      " [ 1 -1]\n",
      " [ 1  0]\n",
      " [ 1  1]] check_list\n"
     ]
    }
   ],
   "source": [
    "check_list = []\n",
    "for x in list_for_check_calculate:\n",
    "    for y in list_for_check_calculate:\n",
    "        check_list.append([x,y])\n",
    "check_list.remove([0,0])     \n",
    "check_list=cupy.array(check_list)\n",
    "print_str(check_list, 'check_list')"
   ]
  },
  {
   "cell_type": "code",
   "execution_count": 44,
   "metadata": {},
   "outputs": [],
   "source": [
    "point_1=Point(1 ,[[divmod(max,2)[0],divmod(max,2)[0]]])"
   ]
  },
  {
   "cell_type": "code",
   "execution_count": 45,
   "metadata": {},
   "outputs": [
    {
     "name": "stdout",
     "output_type": "stream",
     "text": [
      "{1: {'coords': [[2, 2]]}, 2: {'coords': [[2, 3]]}}\n"
     ]
    }
   ],
   "source": [
    "new_particle = rnd.choice(random_list)\n",
    "rand_final.append(new_particle)\n",
    "random_list.remove(new_particle)\n",
    "point_2=Point(2 ,[[new_particle[0],new_particle[1]]])\n",
    "print(Point._registry)"
   ]
  },
  {
   "cell_type": "code",
   "execution_count": 46,
   "metadata": {},
   "outputs": [
    {
     "name": "stdout",
     "output_type": "stream",
     "text": [
      "{'coords': [[2, 2]]}\n",
      "1 номер частицы\n",
      "[[2, 2]]\n",
      "{'coords': [[2, 3]]}\n",
      "2 номер частицы\n",
      "[[2, 3]]\n",
      "[[0. 0. 0. 0. 0. 0. 0.]\n",
      " [0. 0. 0. 0. 0. 0. 0.]\n",
      " [0. 0. 1. 2. 0. 0. 0.]\n",
      " [0. 0. 0. 0. 0. 0. 0.]\n",
      " [0. 0. 0. 0. 0. 0. 0.]\n",
      " [0. 0. 0. 0. 0. 0. 0.]\n",
      " [0. 0. 0. 0. 0. 0. 0.]] field_test\n"
     ]
    }
   ],
   "source": [
    "for k,v in Point._registry.items():\n",
    "    print(v)#координата частицы\n",
    "    print_str(k,'номер частицы')\n",
    "    print(v['coords'])\n",
    "    for i in v['coords']:\n",
    "        field_test[i[0]][i[1]]=k\n",
    "\n",
    "print(field_test,'field_test')  "
   ]
  },
  {
   "cell_type": "code",
   "execution_count": 47,
   "metadata": {},
   "outputs": [
    {
     "name": "stdout",
     "output_type": "stream",
     "text": [
      "[[-1 -1]\n",
      " [-1  0]\n",
      " [-1  1]\n",
      " [ 0 -1]\n",
      " [ 0  1]\n",
      " [ 1 -1]\n",
      " [ 1  0]\n",
      " [ 1  1]]\n",
      "[array(-1), array(-1)]\n",
      "[array(-1), array(0)]\n",
      "[array(-1), array(1)]\n",
      "[array(0), array(-1)]\n",
      "[array(0), array(1)]\n",
      "[array(1), array(-1)]\n",
      "[array(1), array(0)]\n",
      "[array(1), array(1)]\n"
     ]
    }
   ],
   "source": [
    "print(check_list)\n",
    "for y in check_list:\n",
    "    a=y[0]\n",
    "    b=y[1]\n",
    "    print([a,b])"
   ]
  },
  {
   "cell_type": "code",
   "execution_count": 48,
   "metadata": {},
   "outputs": [
    {
     "name": "stdout",
     "output_type": "stream",
     "text": [
      "{1: {'coords': [[2, 2]]}, 2: {'coords': [[2, 3]]}} до проверки\n",
      "{1: {'coords': [[2, 2]]}, 2: {'coords': [[2, 3]]}}\n",
      "{1: {'coords': [[2, 2]]}, 2: {'coords': [[2, 3]]}}\n",
      "{1: {'coords': [[2, 2]]}, 2: {'coords': [[2, 3]]}}\n",
      "{1: {'coords': [[2, 2]]}, 2: {'coords': [[2, 3]]}}\n",
      "test finished\n",
      "add_coords\n",
      "{1: {'coords': [[2, 2], [2, 3]]}, 2: {'coords': [[2, 3]]}}\n",
      "{1: {'coords': [[2, 2], [2, 3]]}, 2: {'coords': [[2, 3]]}}\n",
      "{1: {'coords': [[2, 2], [2, 3]]}, 2: {'coords': [[2, 3]]}}\n",
      "{1: {'coords': [[2, 2], [2, 3]]}, 2: {'coords': [[2, 3]]}}\n",
      "{1: {'coords': [[2, 2], [2, 3]]}} после удаления\n"
     ]
    }
   ],
   "source": [
    "print_str(Point._registry,'до проверки')\n",
    "list_for_delete=[]\n",
    "    #========= Проверка соседей (начало) =========\n",
    "    \n",
    "for coord_check in check_list:\n",
    "    x=coord_check[0]\n",
    "    y=coord_check[1]  \n",
    "    x_2 = point_2.coords[0][0]\n",
    "    y_2 = point_2.coords[0][1]\n",
    "    print(Point._registry)\n",
    "    if (field_test[x_2+x][y_2+y]!=0)==True:\n",
    "        print('test finished')\n",
    "        point_1.add_coords(point_2.coords[0])\n",
    "        print('add_coords')\n",
    "        \n",
    "\n",
    "        field_test[x_2][y_2]=1\n",
    "Point.remove_point(point_2.num_globul)                    \n",
    "print_str(Point._registry,'после удаления')   "
   ]
  },
  {
   "cell_type": "code",
   "execution_count": 49,
   "metadata": {},
   "outputs": [
    {
     "name": "stdout",
     "output_type": "stream",
     "text": [
      "[[0. 0. 0. 0. 0. 0. 0.]\n",
      " [0. 0. 0. 0. 0. 0. 0.]\n",
      " [0. 0. 1. 1. 0. 0. 0.]\n",
      " [0. 0. 0. 0. 0. 0. 0.]\n",
      " [0. 0. 0. 0. 0. 0. 0.]\n",
      " [0. 0. 0. 0. 0. 0. 0.]\n",
      " [0. 0. 0. 0. 0. 0. 0.]]\n",
      "test_1\n",
      "[0 1]  for_sum_coord\n",
      "[2 3]  new_coord\n",
      "[[2, 4]]  refresh_value\n",
      "[[0. 0. 0. 0. 0. 0. 0.]\n",
      " [0. 0. 0. 0. 0. 0. 0.]\n",
      " [0. 0. 1. 0. 2. 0. 0.]\n",
      " [0. 0. 0. 0. 0. 0. 0.]\n",
      " [0. 0. 0. 0. 0. 0. 0.]\n",
      " [0. 0. 0. 0. 0. 0. 0.]\n",
      " [0. 0. 0. 0. 0. 0. 0.]]\n",
      "8 - осталось свободных вариантов\n"
     ]
    }
   ],
   "source": [
    "print(field_test)\n",
    "x_move = point_2.coords[0][0]\n",
    "y_move = point_2.coords[0][1]\n",
    "coord_moving = point_2.coords[0]\n",
    "        \n",
    "crit_mix_max=0\n",
    "stop_signal=0\n",
    "check_list_moving = check_list[:]\n",
    "     \n",
    "print('test_1')\n",
    "while (crit_mix_max==0 and stop_signal==0)==True:\n",
    "    step_rnd = rnd.choices(check_list_moving)\n",
    "    for_sum_coord=cupy.array(step_rnd[0])\n",
    "    print_str(for_sum_coord,' for_sum_coord')\n",
    "    not_use=1\n",
    "                # check_list_moving.remove(step_rnd[0])\n",
    "    new_coord=cupy.array(coord_moving)\n",
    "    print_str(new_coord,' new_coord')\n",
    "            \n",
    "    if step_rnd==[]:\n",
    "        new_coord=coord_moving\n",
    "        stop_signal=1\n",
    "        break\n",
    "                \n",
    "    refresh_value=[]\n",
    "            # print_str(i,' i')\n",
    "    t=new_coord+for_sum_coord\n",
    "                # print_str(t,' t')\n",
    "    refresh_value.append(t.tolist())\n",
    "    print_str(refresh_value,' refresh_value')\n",
    "    if ((t[0]<1 or t[1]<1\n",
    "        or t[0]>max or t[1]>max))==True:\n",
    "                    not_use+=1\n",
    "                        # print(check_list_moving)\n",
    "                        # print(step_rnd)\n",
    "                            \n",
    "    if (not_use==1)==True:\n",
    "                    \n",
    "        field_test[x_move][y_move]=0\n",
    "                    \n",
    "        field_test[refresh_value[0][0]][refresh_value[0][1]]=2\n",
    "                    \n",
    "                    # print(str(refresh_value), ' refresh_value')\n",
    "        crit_mix_max=1\n",
    "                    \n",
    "        point_2.coords= refresh_value\n",
    "                    # print_str(v['coords'],'changed_point')\n",
    "        break\n",
    "else:\n",
    "    print('расчет окончен')\n",
    "print(field_test)\n",
    "print_str(len(check_list),'- осталось свободных вариантов')"
   ]
  }
 ],
 "metadata": {
  "kernelspec": {
   "display_name": "Python 3.10.8 64-bit (microsoft store)",
   "language": "python",
   "name": "python3"
  },
  "language_info": {
   "codemirror_mode": {
    "name": "ipython",
    "version": 3
   },
   "file_extension": ".py",
   "mimetype": "text/x-python",
   "name": "python",
   "nbconvert_exporter": "python",
   "pygments_lexer": "ipython3",
   "version": "3.10.8"
  },
  "orig_nbformat": 4,
  "vscode": {
   "interpreter": {
    "hash": "ead04dab9d0f9ddd35456da833b43b70f05ee7746e0f91102b0c2f5a1fb8d7ff"
   }
  }
 },
 "nbformat": 4,
 "nbformat_minor": 2
}
